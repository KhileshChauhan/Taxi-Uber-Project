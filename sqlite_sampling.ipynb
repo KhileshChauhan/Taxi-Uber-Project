{
 "cells": [
  {
   "cell_type": "code",
   "execution_count": 1,
   "metadata": {
    "collapsed": true
   },
   "outputs": [],
   "source": [
    "#Importing useful packages\n",
    "import sqlite3\n",
    "import csv\n",
    "import pandas as pd\n",
    "from datetime import datetime\n",
    "\n",
    "#Returns a Dataframe containing a sample of size \"number\" from the specified month and year\n",
    "def get_sample(year,month,number):\n",
    "    #Change to directory of your database!\n",
    "    conn = sqlite3.connect(r'E:\\Summer Project\\yellow_taxi_'+str(year)+'.sqlite')\n",
    "    c = conn.cursor()\n",
    "    sample = pd.read_sql_query('select * from '+str(month)+' where rowid = (abs(random()) % (select (select max(rowid) from january)+1))',conn)\n",
    "    for i in range(number):\n",
    "        sample = sample.append(pd.read_sql_query('select rowid, * from '+str(month)+' where rowid = (abs(random()) % (select (select max(rowid) from january)+1))',conn))#row,ignore_index=True)\n",
    "    return sample"
   ]
  },
  {
   "cell_type": "code",
   "execution_count": 2,
   "metadata": {
    "collapsed": true
   },
   "outputs": [],
   "source": [
    "#Example of get_sample\n",
    "x = get_sample(2013,\"may\",20)"
   ]
  },
  {
   "cell_type": "code",
   "execution_count": 3,
   "metadata": {
    "collapsed": false
   },
   "outputs": [
    {
     "name": "stdout",
     "output_type": "stream",
     "text": [
      "      dropoff_datetime  dropoff_latitude  dropoff_longitude  fare_amount  \\\n",
      "0  2013-05-21 06:49:14         40.721658         -74.008193          8.0   \n",
      "0  2013-05-27 01:24:00         40.742650         -74.004240          9.5   \n",
      "0  2013-05-17 08:48:00         40.771212         -73.988160          4.5   \n",
      "0  2013-05-01 12:10:00         40.753997         -73.972147         26.5   \n",
      "0  2013-05-11 21:13:00         40.750197         -73.990337         11.5   \n",
      "0  2013-05-16 02:12:33         40.740218         -74.007984          8.0   \n",
      "0  2013-05-21 10:35:00         40.752832         -73.965737          7.0   \n",
      "0  2013-05-18 11:42:58         40.705169         -74.016824         22.0   \n",
      "0  2013-05-01 12:39:32         40.735577         -73.992507          6.5   \n",
      "0  2013-05-19 21:18:00         40.763545         -73.954695         10.0   \n",
      "0  2013-05-05 10:17:43         40.765119         -73.972466          6.5   \n",
      "0  2013-05-31 17:51:00         40.675352         -73.999277         43.0   \n",
      "0  2013-05-02 14:55:53         40.772027         -73.978164         17.0   \n",
      "0  2013-05-11 12:18:09         40.750588         -73.994565          7.0   \n",
      "0  2013-05-14 21:36:00         40.785292         -73.969347         15.0   \n",
      "0  2013-05-12 20:42:00         40.803860         -73.957592          5.5   \n",
      "0  2013-05-07 13:44:23         40.743551         -73.993813          8.0   \n",
      "0  2013-05-24 09:59:00        -74.004577          40.725597         13.0   \n",
      "0  2013-05-22 23:21:00         40.788912         -73.976467         19.5   \n",
      "0  2013-05-01 18:50:25         40.749859         -73.975068          6.0   \n",
      "0  2013-05-05 15:34:00         40.757722         -73.976120          6.0   \n",
      "\n",
      "   mta_tax  passenger_count payment_type      pickup_datetime  \\\n",
      "0      0.5                1          CSH  2013-05-21 06:42:05   \n",
      "0      0.5                1          CSH  2013-05-27 01:13:00   \n",
      "0      0.5                6          CSH  2013-05-17 08:44:00   \n",
      "0      0.5                3          CRD  2013-05-01 11:43:00   \n",
      "0      0.5                4          CRD  2013-05-11 20:58:00   \n",
      "0      0.5                1          CSH  2013-05-16 02:05:26   \n",
      "0      0.5                3          CSH  2013-05-21 10:28:00   \n",
      "0      0.5                4          CSH  2013-05-18 11:26:18   \n",
      "0      0.5                1          CRD  2013-05-01 12:31:14   \n",
      "0      0.5                6          CRD  2013-05-19 21:07:00   \n",
      "0      0.5                1          CSH  2013-05-05 10:11:06   \n",
      "0      0.5                1          CRD  2013-05-31 16:44:00   \n",
      "0      0.5                1          CRD  2013-05-02 14:32:08   \n",
      "0      0.5                1          CRD  2013-05-11 12:11:25   \n",
      "0      0.5                1          CRD  2013-05-14 21:18:00   \n",
      "0      0.5                2          CRD  2013-05-12 20:37:00   \n",
      "0      0.5                1          CSH  2013-05-07 13:34:21   \n",
      "0      0.5                2          CRD  2013-05-24 09:45:00   \n",
      "0      0.5                1          CRD  2013-05-22 23:01:00   \n",
      "0      0.5                1          CRD  2013-05-01 18:43:58   \n",
      "0      0.5                6          CSH  2013-05-05 15:28:00   \n",
      "\n",
      "   pickup_latitude  pickup_longitude  rate_code       rowid  \\\n",
      "0        40.731135        -73.992197          1         NaN   \n",
      "0        40.720892        -73.997940          1   6596900.0   \n",
      "0        40.776292        -73.988022          1   2958570.0   \n",
      "0        40.720357        -74.009822          1  10728829.0   \n",
      "0        40.725925        -73.986592          1   1624063.0   \n",
      "0        40.755316        -73.987218          1  13189329.0   \n",
      "0        40.764752        -73.968530          1   3822578.0   \n",
      "0        40.756125        -73.972747          1  13414928.0   \n",
      "0        40.738643        -73.991893          1   7781869.0   \n",
      "0        40.771162        -73.982425          1   3639945.0   \n",
      "0        40.755837        -73.971047          1   8930650.0   \n",
      "0        40.768902        -73.862785          1   6816512.0   \n",
      "0        40.737325        -73.988208          1   7928515.0   \n",
      "0        40.767339        -73.986223          1   9772258.0   \n",
      "0        40.752605        -73.973140          1   2351264.0   \n",
      "0        40.804745        -73.966355          1   1906701.0   \n",
      "0        40.753020        -73.981086          1  10134129.0   \n",
      "0       -73.997862         40.761955          1   5863011.0   \n",
      "0        40.725167        -73.981227          1   5643451.0   \n",
      "0        40.741081        -73.981546          1   7849987.0   \n",
      "0        40.756307        -73.961620          1     66604.0   \n",
      "\n",
      "  store_and_fwd_flag  surcharge  tip_amount  tolls_amount  total_amount  \\\n",
      "0                  N        0.0        0.00           0.0          8.50   \n",
      "0                           0.5        0.00           0.0         10.50   \n",
      "0                           0.0        0.00           0.0          5.00   \n",
      "0                           0.0        5.30           0.0         32.30   \n",
      "0                           0.5        2.40           0.0         14.90   \n",
      "0                  N        0.5        0.00           0.0          9.00   \n",
      "0                           0.0        0.00           0.0          7.50   \n",
      "0                  N        0.0        0.00           0.0         22.50   \n",
      "0                  N        0.0        1.00           0.0          8.00   \n",
      "0                           0.5        0.00           0.0         11.00   \n",
      "0                  N        0.0        0.00           0.0          7.00   \n",
      "0                           1.0       11.00           0.0         55.50   \n",
      "0                  N        0.0        4.37           0.0         21.87   \n",
      "0                  N        0.0        4.00           0.0         11.50   \n",
      "0                           0.5        3.10           0.0         19.10   \n",
      "0                           0.5        2.00           0.0          8.50   \n",
      "0                  N        0.0        0.00           0.0          8.50   \n",
      "0                           0.0        0.00           0.0         13.50   \n",
      "0                           0.5        2.00           0.0         22.50   \n",
      "0                  N        1.0        1.50           0.0          9.00   \n",
      "0                           0.0        0.00           0.0          6.50   \n",
      "\n",
      "   trip_distance vendor_id  \n",
      "0           1.80       CMT  \n",
      "0           2.09       VTS  \n",
      "0           0.66       VTS  \n",
      "0           0.70       VTS  \n",
      "0           2.38       VTS  \n",
      "0           1.90       CMT  \n",
      "0           1.43       VTS  \n",
      "0           6.60       CMT  \n",
      "0           0.20       CMT  \n",
      "0           1.86       VTS  \n",
      "0           0.90       CMT  \n",
      "0          11.90       VTS  \n",
      "0           3.10       CMT  \n",
      "0           2.60       CMT  \n",
      "0           2.95       VTS  \n",
      "0           0.71       VTS  \n",
      "0           1.20       CMT  \n",
      "0           3.06       VTS  \n",
      "0           5.92       VTS  \n",
      "0           0.70       CMT  \n",
      "0           1.03       VTS  \n"
     ]
    }
   ],
   "source": [
    "print(x)"
   ]
  },
  {
   "cell_type": "code",
   "execution_count": null,
   "metadata": {
    "collapsed": true
   },
   "outputs": [],
   "source": []
  }
 ],
 "metadata": {
  "kernelspec": {
   "display_name": "Python 3",
   "language": "python",
   "name": "python3"
  },
  "language_info": {
   "codemirror_mode": {
    "name": "ipython",
    "version": 3
   },
   "file_extension": ".py",
   "mimetype": "text/x-python",
   "name": "python",
   "nbconvert_exporter": "python",
   "pygments_lexer": "ipython3",
   "version": "3.5.1"
  }
 },
 "nbformat": 4,
 "nbformat_minor": 0
}
