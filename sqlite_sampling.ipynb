{
 "cells": [
  {
   "cell_type": "code",
   "execution_count": 12,
   "metadata": {
    "collapsed": true
   },
   "outputs": [],
   "source": [
    "#Importing useful packages\n",
    "import sqlite3\n",
    "import csv\n",
    "import pandas as pd\n",
    "from datetime import datetime\n",
    "\n",
    "#Returns a Dataframe containing a sample of size \"number\" from the specified month and year\n",
    "def get_sample(year,month,number):\n",
    "    #Error Checking\n",
    "    if number < 0:\n",
    "        print(\"Bad Number Value\\n\")\n",
    "        return\n",
    "    if year < 2012 | year > 2014:\n",
    "        print(\"Bad year value\\n\")\n",
    "        return\n",
    "    \n",
    "    #Change to directory of your database!\n",
    "    conn = sqlite3.connect(r'E:\\Summer Project\\yellow_taxi_'+str(year)+'.sqlite')\n",
    "    c = conn.cursor()\n",
    "    #For small samples (less than 10000) adding them this way is fastest\n",
    "    if number<10000:\n",
    "        sample = pd.read_sql_query('select * from '+str(month)+\n",
    "                                   ' where rowid = (abs(random()) % (select (select max(rowid) from january)+1))',conn)\n",
    "        for i in range(number-1):\n",
    "            sample = sample.append(pd.read_sql_query('select * from '+str(month)+' where rowid = (abs(random()) % (select (select max(rowid) from january)+1))',conn))#row,ignore_index=True)\n",
    "    else:\n",
    "        #This is the fastest way to get a random sample for large entries\n",
    "        sample = pd.read_sql_query('select * from '+str(month)+' order by random() limit '+str(number),conn)\n",
    "    \n",
    "    #Turns the dropoff_datetime column into an array of time values\n",
    "    tmpdate = sample['dropoff_datetime'].get_values()\n",
    "    \n",
    "    #Initiliazing three arrays that will be our new columns in our sample\n",
    "    dropoff_hour = [0]*(number)\n",
    "    dropoff_day = [0]*(number)\n",
    "    day_of_week = [0]*(number)\n",
    "    \n",
    "    #Loop that will strip the time from every entry in tmpdate and assign it to the right column\n",
    "    for i, date in enumerate(tmpdate):\n",
    "        tmp = datetime.strptime(date, '%Y-%m-%d %H:%M:%S')\n",
    "        dropoff_hour[i] = tmp.hour\n",
    "        dropoff_day[i] = tmp.day\n",
    "        day_of_week[i] = tmp.weekday()\n",
    "    \n",
    "    #Creating the new columns for our sample\n",
    "    sample['dropoff_hour'] = dropoff_hour\n",
    "    sample['dropoff_day'] = dropoff_day\n",
    "    sample['weekday'] = day_of_week\n",
    "    \n",
    "    #Returning the sample\n",
    "    return sample"
   ]
  },
  {
   "cell_type": "code",
   "execution_count": 13,
   "metadata": {
    "collapsed": false
   },
   "outputs": [
    {
     "name": "stdout",
     "output_type": "stream",
     "text": [
      "  vendor_id      pickup_datetime     dropoff_datetime  passenger_count  \\\n",
      "0       VTS  2013-11-04 12:22:00  2013-11-04 12:57:00                5   \n",
      "0       VTS  2013-11-06 11:51:00  2013-11-06 12:00:00                3   \n",
      "0       CMT  2013-11-04 12:23:57  2013-11-04 12:36:11                1   \n",
      "0       VTS  2013-11-21 13:26:00  2013-11-21 13:37:00                1   \n",
      "0       VTS  2013-11-10 13:54:00  2013-11-10 14:29:00                1   \n",
      "\n",
      "   trip_distance  pickup_longitude  pickup_latitude  rate_code  \\\n",
      "0          18.53        -73.961470        40.796157          2   \n",
      "0           1.70        -73.958840        40.799562          1   \n",
      "0           5.00        -74.004530        40.707150          1   \n",
      "0           1.38        -73.990215        40.752067          1   \n",
      "0          21.21        -73.971610        40.795270          3   \n",
      "\n",
      "  store_and_fwd_flag  dropoff_longitude   ...     payment_type fare_amount  \\\n",
      "0                            -73.789962   ...              CSH        52.0   \n",
      "0                            -73.961363   ...              CSH         9.0   \n",
      "0                  N         -74.014413   ...              CSH        15.5   \n",
      "0                            -73.992227   ...              CSH         9.0   \n",
      "0                            -74.176862   ...              CSH        75.0   \n",
      "\n",
      "   surcharge  mta_tax  tip_amount  tolls_amount  total_amount  dropoff_hour  \\\n",
      "0        0.0      0.5         0.0          5.33         57.83            12   \n",
      "0        0.0      0.5         0.0          0.00          9.50            12   \n",
      "0        0.0      0.5         0.0          0.00         16.00            12   \n",
      "0        0.0      0.5         0.0          0.00          9.50            13   \n",
      "0        0.0      0.0         0.0         10.25         85.25            14   \n",
      "\n",
      "   dropoff_day  weekday  \n",
      "0            4        0  \n",
      "0            6        2  \n",
      "0            4        0  \n",
      "0           21        3  \n",
      "0           10        6  \n",
      "\n",
      "[5 rows x 21 columns]\n"
     ]
    }
   ],
   "source": [
    "#Example of get_sample\n",
    "x = get_sample(2013,\"december\",5)\n",
    "\n",
    "#This will print out the sample to a csv file so it can be loaded into JMP or other software\n",
    "x.to_csv('test_sample3.csv')\n"
   ]
  },
  {
   "cell_type": "code",
   "execution_count": null,
   "metadata": {
    "collapsed": true
   },
   "outputs": [],
   "source": []
  }
 ],
 "metadata": {
  "kernelspec": {
   "display_name": "Python 3",
   "language": "python",
   "name": "python3"
  },
  "language_info": {
   "codemirror_mode": {
    "name": "ipython",
    "version": 3
   },
   "file_extension": ".py",
   "mimetype": "text/x-python",
   "name": "python",
   "nbconvert_exporter": "python",
   "pygments_lexer": "ipython3",
   "version": "3.5.1"
  }
 },
 "nbformat": 4,
 "nbformat_minor": 0
}
