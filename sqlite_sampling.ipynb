{
 "cells": [
  {
   "cell_type": "code",
   "execution_count": 1,
   "metadata": {
    "collapsed": true
   },
   "outputs": [],
   "source": [
    "#Importing useful packages\n",
    "import sqlite3\n",
    "import csv\n",
    "import pandas as pd\n",
    "from datetime import datetime\n",
    "\n",
    "#Returns a Dataframe containing a sample of size \"number\" from the specified month and year\n",
    "def get_sample(year,month,number):\n",
    "    #Change to directory of your database!\n",
    "    conn = sqlite3.connect(r'E:\\Summer Project\\yellow_taxi_'+str(year)+'.sqlite')\n",
    "    c = conn.cursor()\n",
    "    if number<10000:\n",
    "        sample = pd.read_sql_query('select * from '+str(month)+\n",
    "                                   ' where rowid = (abs(random()) % (select (select max(rowid) from january)+1))',conn)\n",
    "        for i in range(number):\n",
    "            sample = sample.append(pd.read_sql_query('select * from '+str(month)+' where rowid = (abs(random()) % (select (select max(rowid) from january)+1))',conn))#row,ignore_index=True)\n",
    "            #tmpdate = sample.ix[0,3]\n",
    "            #print(tmpdate)\n",
    "    else:\n",
    "        sample = pd.read_sql_query('select * from '+str(month)+' order by random() limit '+str(number),conn)\n",
    "    tmpdate = sample['dropoff_datetime'].get_values()\n",
    "    #pickdate = sample['']\n",
    "    dropoff_hour = [0]*(number+1)\n",
    "    dropoff_day = [0]*(number+1)\n",
    "    day_of_week = [0]*(number+1)\n",
    "    #sample.insert(dropoff_hour)\n",
    "    #print(dropoff_hour)\n",
    "    for i, date in enumerate(tmpdate):\n",
    "        tmp = datetime.strptime(date, '%Y-%m-%d %H:%M:%S')\n",
    "        dropoff_hour[i] = tmp.hour\n",
    "        dropoff_day[i] = tmp.day\n",
    "        day_of_week[i] = tmp.weekday()\n",
    "        #print(\" day: \"+str(tmp.day)+\" hour: \"+str(tmp.hour)+ \" day of week: \"+str(tmp.weekday()))\n",
    "    sample['dropoff_hour'] = dropoff_hour\n",
    "    sample['dropoff_day'] = dropoff_day\n",
    "    sample['weekday'] = day_of_week\n",
    "    #print(sample)\n",
    "    return sample"
   ]
  },
  {
   "cell_type": "code",
   "execution_count": 2,
   "metadata": {
    "collapsed": false
   },
   "outputs": [],
   "source": [
    "#Example of get_sample\n",
    "x = get_sample(2013,\"january\",9999)\n",
    "x.to_csv('test_sample.csv')"
   ]
  },
  {
   "cell_type": "code",
   "execution_count": 129,
   "metadata": {
    "collapsed": false
   },
   "outputs": [],
   "source": [
    "x.to_csv(\"output1.csv\")"
   ]
  },
  {
   "cell_type": "code",
   "execution_count": 7,
   "metadata": {
    "collapsed": false
   },
   "outputs": [],
   "source": [
    "conn = sqlite3.connect(r'E:\\Summer Project\\yellow_taxi_2013.sqlite')\n",
    "c = conn.cursor()\n",
    "sample = pd.read_sql_query('SELECT * FROM may ORDER BY RANDOM() LIMIT 10000',conn)"
   ]
  },
  {
   "cell_type": "code",
   "execution_count": null,
   "metadata": {
    "collapsed": true
   },
   "outputs": [],
   "source": [
    ""
   ]
  }
 ],
 "metadata": {
  "kernelspec": {
   "display_name": "Python 3",
   "language": "python",
   "name": "python3"
  },
  "language_info": {
   "codemirror_mode": {
    "name": "ipython",
    "version": 3.0
   },
   "file_extension": ".py",
   "mimetype": "text/x-python",
   "name": "python",
   "nbconvert_exporter": "python",
   "pygments_lexer": "ipython3",
   "version": "3.5.1"
  }
 },
 "nbformat": 4,
 "nbformat_minor": 0
}