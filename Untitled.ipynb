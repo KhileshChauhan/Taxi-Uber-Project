{
 "cells": [
  {
   "cell_type": "code",
   "execution_count": 20,
   "metadata": {
    "collapsed": false
   },
   "outputs": [],
   "source": [
    "import numpy as np\n",
    "import pandas as pd\n",
    "import os\n",
    "import sys\n",
    "\n",
    "DATA_ROOT=\"E:\\Summer Project\\Data\\Taxi\"\n",
    "data = os.path.join(DATA_ROOT, 'yellow_tripdata_2013-12.csv')\n",
    "taxi_table = pd.read_table(data, header=0, sep = ',',nrows=10000,parse_dates=[1,2])"
   ]
  },
  {
   "cell_type": "code",
   "execution_count": 21,
   "metadata": {
    "collapsed": false
   },
   "outputs": [
    {
     "data": {
      "text/plain": [
       "pandas.core.frame.DataFrame"
      ]
     },
     "execution_count": 21,
     "metadata": {},
     "output_type": "execute_result"
    }
   ],
   "source": [
    "type(taxi_table)"
   ]
  },
  {
   "cell_type": "code",
   "execution_count": 46,
   "metadata": {
    "collapsed": false
   },
   "outputs": [
    {
     "name": "stdout",
     "output_type": "stream",
     "text": [
      "<built-in method time of Timestamp object at 0x000000000ACBAED0>\n",
      "year: 2013 day: 1 hour: 0 minute: 13\n",
      "<built-in method time of Timestamp object at 0x000000000ADCFC78>\n",
      "year: 2013 day: 1 hour: 0 minute: 40\n",
      "<built-in method time of Timestamp object at 0x000000000ADCFA20>\n",
      "year: 2013 day: 1 hour: 2 minute: 21\n",
      "<built-in method time of Timestamp object at 0x000000000ADCFB88>\n",
      "year: 2013 day: 1 hour: 2 minute: 14\n",
      "<built-in method time of Timestamp object at 0x000000000ADCFCF0>\n",
      "year: 2013 day: 1 hour: 4 minute: 45\n",
      "<built-in method time of Timestamp object at 0x000000000ADCF9A8>\n",
      "year: 2013 day: 1 hour: 4 minute: 45\n",
      "<built-in method time of Timestamp object at 0x000000000ADCF7C8>\n",
      "year: 2013 day: 1 hour: 6 minute: 16\n",
      "<built-in method time of Timestamp object at 0x000000000ADCFF48>\n",
      "year: 2013 day: 1 hour: 8 minute: 35\n",
      "<built-in method time of Timestamp object at 0x000000000ADCFA98>\n",
      "year: 2013 day: 1 hour: 9 minute: 28\n",
      "<built-in method time of Timestamp object at 0x000000000ADCFDE0>\n",
      "year: 2013 day: 1 hour: 9 minute: 35\n"
     ]
    }
   ],
   "source": [
    "date = taxi_table.head(10)[\"pickup_datetime\"]\n",
    "date1 = pd.DatetimeIndex(date)\n",
    "for row in date1:\n",
    "    print(row.time)\n",
    "    print(\"year: \"+str(row.year)+ \" day: \"+str(row.day)+\" hour: \"+str(row.hour)+\" minute: \"+str(row.minute))"
   ]
  },
  {
   "cell_type": "code",
   "execution_count": 22,
   "metadata": {
    "collapsed": false
   },
   "outputs": [
    {
     "name": "stdout",
     "output_type": "stream",
     "text": [
      "<class 'pandas.core.frame.DataFrame'>\n",
      "RangeIndex: 10000 entries, 0 to 9999\n",
      "Data columns (total 18 columns):\n",
      "vendor_id             10000 non-null object\n",
      "pickup_datetime       10000 non-null datetime64[ns]\n",
      "dropoff_datetime      10000 non-null datetime64[ns]\n",
      "passenger_count       10000 non-null int64\n",
      "trip_distance         10000 non-null float64\n",
      "pickup_longitude      10000 non-null float64\n",
      "pickup_latitude       10000 non-null float64\n",
      "rate_code             10000 non-null int64\n",
      "store_and_fwd_flag    24 non-null object\n",
      "dropoff_longitude     10000 non-null float64\n",
      "dropoff_latitude      10000 non-null float64\n",
      "payment_type          10000 non-null object\n",
      "fare_amount           10000 non-null float64\n",
      "surcharge             10000 non-null float64\n",
      "mta_tax               10000 non-null float64\n",
      "tip_amount            10000 non-null float64\n",
      "tolls_amount          10000 non-null float64\n",
      "total_amount          10000 non-null float64\n",
      "dtypes: datetime64[ns](2), float64(11), int64(2), object(3)\n",
      "memory usage: 1.4+ MB\n"
     ]
    }
   ],
   "source": [
    "taxi_table.info()"
   ]
  },
  {
   "cell_type": "code",
   "execution_count": 29,
   "metadata": {
    "collapsed": false
   },
   "outputs": [],
   "source": [
    "first=taxi_table.head(1)\n",
    "first.pickup_datetime\n",
    "taxi_table.head(100).to_csv(\"test.csv\")"
   ]
  },
  {
   "cell_type": "code",
   "execution_count": 5,
   "metadata": {
    "collapsed": false
   },
   "outputs": [
    {
     "data": {
      "text/plain": [
       "10000"
      ]
     },
     "execution_count": 5,
     "metadata": {},
     "output_type": "execute_result"
    }
   ],
   "source": [
    "len(taxi_table)"
   ]
  },
  {
   "cell_type": "code",
   "execution_count": 6,
   "metadata": {
    "collapsed": false
   },
   "outputs": [
    {
     "data": {
      "text/plain": [
       "count    10000.000000\n",
       "mean        14.198194\n",
       "std         12.038790\n",
       "min          3.000000\n",
       "25%          7.500000\n",
       "50%         10.500000\n",
       "75%         16.000000\n",
       "max        300.000000\n",
       "Name: total_amount, dtype: float64"
      ]
     },
     "execution_count": 6,
     "metadata": {},
     "output_type": "execute_result"
    }
   ],
   "source": [
    "taxi_table[\"total_amount\"].describe()"
   ]
  },
  {
   "cell_type": "code",
   "execution_count": 7,
   "metadata": {
    "collapsed": false
   },
   "outputs": [
    {
     "data": {
      "text/plain": [
       "<matplotlib.collections.PathCollection at 0x94823c8>"
      ]
     },
     "execution_count": 7,
     "metadata": {},
     "output_type": "execute_result"
    },
    {
     "data": {
      "image/png": "[encoded data removed]",
      "text/plain": [
       "<matplotlib.figure.Figure at 0x8437748>"
      ]
     },
     "metadata": {},
     "output_type": "display_data"
    }
   ],
   "source": [
    "import matplotlib.pyplot as py\n",
    "%matplotlib inline \n",
    "\n",
    "x = np.linspace(1,100,num=100)\n",
    "py.scatter(x,taxi_table[\"total_amount\"].head(100))"
   ]
  },
  {
   "cell_type": "code",
   "execution_count": 8,
   "metadata": {
    "collapsed": false
   },
   "outputs": [
    {
     "data": {
      "text/plain": [
       "<matplotlib.text.Text at 0x94ed278>"
      ]
     },
     "execution_count": 8,
     "metadata": {},
     "output_type": "execute_result"
    },
    {
     "data": {
      "image/png": "[encoded data removed]",
      "text/plain": [
       "<matplotlib.figure.Figure at 0x9459240>"
      ]
     },
     "metadata": {},
     "output_type": "display_data"
    }
   ],
   "source": [
    "py.scatter(taxi_table[\"trip_distance\"].head(100),taxi_table[\"total_amount\"].head(100))\n",
    "py.xlabel(\"Total Amount\")\n",
    "py.ylabel(\"Distance Travelled\")"
   ]
  },
  {
   "cell_type": "code",
   "execution_count": null,
   "metadata": {
    "collapsed": true
   },
   "outputs": [],
   "source": []
  },
  {
   "cell_type": "code",
   "execution_count": null,
   "metadata": {
    "collapsed": true
   },
   "outputs": [],
   "source": []
  }
 ],
 "metadata": {
  "kernelspec": {
   "display_name": "Python 3",
   "language": "python",
   "name": "python3"
  },
  "language_info": {
   "codemirror_mode": {
    "name": "ipython",
    "version": 3
   },
   "file_extension": ".py",
   "mimetype": "text/x-python",
   "name": "python",
   "nbconvert_exporter": "python",
   "pygments_lexer": "ipython3",
   "version": "3.5.1"
  }
 },
 "nbformat": 4,
 "nbformat_minor": 0
}
