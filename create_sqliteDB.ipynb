{
 "cells": [
  {
   "cell_type": "code",
   "execution_count": 2,
   "metadata": {
    "collapsed": true
   },
   "outputs": [],
   "source": [
    "#Importing useful packages\n",
    "import sqlite3\n",
    "import csv\n",
    "import pandas as pd\n",
    "from datetime import datetime"
   ]
  },
  {
   "cell_type": "code",
   "execution_count": 4,
   "metadata": {
    "collapsed": true
   },
   "outputs": [],
   "source": [
    "#Creating the database and a table for each month, then populating each table with the corresponding data\n",
    "months = [\"january\",\"february\",\"march\",\"april\",\"may\",\"june\",\"july\",\"august\",\"september\",\"october\",\"november\",\"december\"]\n",
    "conn = sqlite3.connect(r'E:\\Summer Project\\yellow_taxi_2014.sqlite')\n",
    "c = conn.cursor()\n",
    "for num, month in enumerate(months,start=1):\n",
    "    #    Create table\n",
    "    c.execute(\"CREATE TABLE \"+ str(month)+\"(vendor_id text, pickup_datetime text, dropoff_datetime text,\"+\n",
    "              \"passenger_count integer, trip_distance real, pickup_longitude real,\"+\n",
    "              \"pickup_latitude real, rate_code integer, store_and_fwd_flag text,\"+\n",
    "              \"dropoff_longitude real, dropoff_latitude real, payment_type text,\"+\n",
    "              \"fare_amount real, surcharge real, mta_tax real,tip_amount real,\"+\n",
    "              \"tolls_amount real,total_amount real)\")\n",
    "    count=0\n",
    "    with open(r'E:\\Summer Project\\Data\\Taxi\\yellow_tripdata_2013-'+str(num).zfill(2)+'.csv', \"r\") as f:\n",
    "        reader = csv.reader(f)\n",
    " \n",
    "        header = True\n",
    "        for row in reader:\n",
    "            if count<2:\n",
    "                count+=1\n",
    "            elif len(row)!= 18:\n",
    "                pass\n",
    "            else:\n",
    "                c.execute(\"INSERT INTO \"+str(month)+\" VALUES (?,?,?,?,?,?,?,?,?,?,?,?,?,?,?,?,?,?)\",(str(row[0]),str(row[1]),\n",
    "                                                                                             str(row[2]),str(row[3]),str(row[4]),\n",
    "                                                                                             str(row[5]),str(row[6]),str(row[7]),\n",
    "                                                                                            str(row[8]),str(row[9]),str(row[10]),\n",
    "                                                                                             str(row[11]),str(row[12]),str(row[13]),\n",
    "                                                                                            str(row[14]),str(row[15]),str(row[16]),\n",
    "                                                                                             str(row[17])))\n",
    "                \n",
    "# Save (commit) the changes\n",
    "conn.commit()\n",
    "\n",
    "# We can also close the connection if we are done with it.\n",
    "# Just be sure any changes have been committed or they will be lost.\n",
    "conn.close()"
   ]
  },
  {
   "cell_type": "code",
   "execution_count": 104,
   "metadata": {
    "collapsed": false
   },
   "outputs": [
    {
     "name": "stdout",
     "output_type": "stream",
     "text": [
      "None\n",
      "None\n"
     ]
    }
   ],
   "source": [
    "#Reading in a time column\n",
    "conn = sqlite3.connect(r'E:\\Summer Project\\yellow_taxi_2013.sqlite')\n",
    "c = conn.cursor()\n",
    "dates = pd.read_sql_query('select pickup_datetime from january', conn)"
   ]
  },
  {
   "cell_type": "code",
   "execution_count": 98,
   "metadata": {
    "collapsed": false
   },
   "outputs": [
    {
     "name": "stdout",
     "output_type": "stream",
     "text": [
      "2013-01-01 15:11:48\n"
     ]
    }
   ],
   "source": [
    "#Indexing the time column to select a time\n",
    "test = dates.ix[0,0]\n",
    "print(test)"
   ]
  },
  {
   "cell_type": "code",
   "execution_count": 102,
   "metadata": {
    "collapsed": false
   },
   "outputs": [
    {
     "name": "stdout",
     "output_type": "stream",
     "text": [
      "year: 2013 day: 1 hour: 15 minute: 11\n"
     ]
    }
   ],
   "source": [
    "#Converting sql text to python datetime object\n",
    "row = datetime.strptime(test, '%Y-%m-%d %H:%M:%S')\n",
    "\n",
    "print(\"year: \"+str(row.year)+ \" day: \"+str(row.day)+\" hour: \"+str(row.hour)+\" minute: \"+str(row.minute))"
   ]
  },
  {
   "cell_type": "code",
   "execution_count": 4,
   "metadata": {
    "collapsed": false
   },
   "outputs": [
    {
     "name": "stdout",
     "output_type": "stream",
     "text": [
      "  vendor_id      pickup_datetime     dropoff_datetime  passenger_count  \\\n",
      "0       VTS  2013-01-07 09:06:00  2013-01-07 09:13:00                1   \n",
      "1       CMT  2013-01-25 07:49:29  2013-01-25 07:54:20                1   \n",
      "2       CMT  2013-01-27 12:20:15  2013-01-27 12:29:35                3   \n",
      "3       CMT  2013-01-27 09:02:02  2013-01-27 09:09:15                1   \n",
      "4       CMT  2013-01-22 21:06:15  2013-01-22 21:11:03                1   \n",
      "5       CMT  2013-01-04 19:29:41  2013-01-04 19:37:25                1   \n",
      "6       CMT  2013-01-30 21:03:35  2013-01-30 21:18:41                1   \n",
      "7       CMT  2013-01-18 10:04:54  2013-01-18 10:09:12                2   \n",
      "8       CMT  2013-01-26 11:44:41  2013-01-26 12:13:02                1   \n",
      "9       CMT  2013-01-14 14:22:33  2013-01-14 14:30:05                1   \n",
      "\n",
      "   trip_distance  pickup_longitude  pickup_latitude  rate_code  \\\n",
      "0           1.51        -73.991852        40.726142          1   \n",
      "1           0.80        -73.987090        40.733838          1   \n",
      "2           2.20        -73.978141        40.756297          1   \n",
      "3           1.80        -74.015268        40.715641          1   \n",
      "4           1.20        -73.948708        40.782467          1   \n",
      "5           1.20        -74.006247        40.723325          1   \n",
      "6           3.80        -73.975484        40.760430          1   \n",
      "7           0.70        -74.002461        40.739646          1   \n",
      "8           8.60        -73.870903        40.773761          1   \n",
      "9           1.60        -73.973281        40.763954          1   \n",
      "\n",
      "  store_and_fwd_flag  dropoff_longitude  dropoff_latitude payment_type  \\\n",
      "0                            -73.981455         40.744010          CSH   \n",
      "1                  N         -73.994336         40.740937          CSH   \n",
      "2                  N         -73.986930         40.729611          CRD   \n",
      "3                  N         -73.994736         40.725953          CRD   \n",
      "4                  N         -73.960367         40.771419          CSH   \n",
      "5                  N         -73.993147         40.731026          CRD   \n",
      "6                  N         -74.010513         40.723638          CRD   \n",
      "7                  N         -73.990761         40.734808          CRD   \n",
      "8                  N         -73.980327         40.744286          CSH   \n",
      "9                  N         -73.956838         40.777968          CRD   \n",
      "\n",
      "   fare_amount  surcharge  mta_tax  tip_amount  tolls_amount  total_amount  \n",
      "0          7.5        0.0      0.5        0.00           0.0          8.00  \n",
      "1          5.5        0.0      0.5        0.00           0.0          6.00  \n",
      "2          9.5        0.0      0.5        1.00           0.0         11.00  \n",
      "3          8.5        0.0      0.5        1.00           0.0         10.00  \n",
      "4          6.0        0.5      0.5        0.00           0.0          7.00  \n",
      "5          7.5        1.0      0.5        1.50           0.0         10.50  \n",
      "6         14.0        0.5      0.5        3.75           0.0         18.75  \n",
      "7          5.0        0.0      0.5        1.10           0.0          6.60  \n",
      "8         29.5        0.0      0.5        0.00           4.8         34.80  \n",
      "9          8.0        0.0      0.5        1.70           0.0         10.20  \n"
     ]
    },
    {
     "ename": "KeyboardInterrupt",
     "evalue": "",
     "output_type": "error",
     "traceback": [
      "\u001b[1;31m---------------------------------------------------------------------------\u001b[0m",
      "\u001b[1;31mKeyboardInterrupt\u001b[0m                         Traceback (most recent call last)",
      "\u001b[1;32m<ipython-input-4-f83e57025f44>\u001b[0m in \u001b[0;36m<module>\u001b[1;34m()\u001b[0m\n\u001b[0;32m      4\u001b[0m \u001b[0mc\u001b[0m \u001b[1;33m=\u001b[0m \u001b[0mconn\u001b[0m\u001b[1;33m.\u001b[0m\u001b[0mcursor\u001b[0m\u001b[1;33m(\u001b[0m\u001b[1;33m)\u001b[0m\u001b[1;33m\u001b[0m\u001b[0m\n\u001b[0;32m      5\u001b[0m \u001b[1;32mfor\u001b[0m \u001b[0mmonth\u001b[0m \u001b[1;32min\u001b[0m \u001b[0mmonths\u001b[0m\u001b[1;33m:\u001b[0m\u001b[1;33m\u001b[0m\u001b[0m\n\u001b[1;32m----> 6\u001b[1;33m     \u001b[0mrows\u001b[0m \u001b[1;33m=\u001b[0m \u001b[0mpd\u001b[0m\u001b[1;33m.\u001b[0m\u001b[0mread_sql_query\u001b[0m\u001b[1;33m(\u001b[0m\u001b[1;34m'select * from '\u001b[0m\u001b[1;33m+\u001b[0m\u001b[0mstr\u001b[0m\u001b[1;33m(\u001b[0m\u001b[0mmonth\u001b[0m\u001b[1;33m)\u001b[0m\u001b[1;33m+\u001b[0m\u001b[1;34m' order by random() limit 10'\u001b[0m\u001b[1;33m,\u001b[0m \u001b[0mconn\u001b[0m\u001b[1;33m)\u001b[0m\u001b[1;33m\u001b[0m\u001b[0m\n\u001b[0m\u001b[0;32m      7\u001b[0m     \u001b[0mprint\u001b[0m\u001b[1;33m(\u001b[0m\u001b[0mrows\u001b[0m\u001b[1;33m)\u001b[0m\u001b[1;33m\u001b[0m\u001b[0m\n",
      "\u001b[1;32mC:\\Users\\Colin\\Anaconda3\\lib\\site-packages\\pandas\\io\\sql.py\u001b[0m in \u001b[0;36mread_sql_query\u001b[1;34m(sql, con, index_col, coerce_float, params, parse_dates, chunksize)\u001b[0m\n\u001b[0;32m    429\u001b[0m     return pandas_sql.read_query(\n\u001b[0;32m    430\u001b[0m         \u001b[0msql\u001b[0m\u001b[1;33m,\u001b[0m \u001b[0mindex_col\u001b[0m\u001b[1;33m=\u001b[0m\u001b[0mindex_col\u001b[0m\u001b[1;33m,\u001b[0m \u001b[0mparams\u001b[0m\u001b[1;33m=\u001b[0m\u001b[0mparams\u001b[0m\u001b[1;33m,\u001b[0m \u001b[0mcoerce_float\u001b[0m\u001b[1;33m=\u001b[0m\u001b[0mcoerce_float\u001b[0m\u001b[1;33m,\u001b[0m\u001b[1;33m\u001b[0m\u001b[0m\n\u001b[1;32m--> 431\u001b[1;33m         parse_dates=parse_dates, chunksize=chunksize)\n\u001b[0m\u001b[0;32m    432\u001b[0m \u001b[1;33m\u001b[0m\u001b[0m\n\u001b[0;32m    433\u001b[0m \u001b[1;33m\u001b[0m\u001b[0m\n",
      "\u001b[1;32mC:\\Users\\Colin\\Anaconda3\\lib\\site-packages\\pandas\\io\\sql.py\u001b[0m in \u001b[0;36mread_query\u001b[1;34m(self, sql, index_col, coerce_float, params, parse_dates, chunksize)\u001b[0m\n\u001b[0;32m   1593\u001b[0m \u001b[1;33m\u001b[0m\u001b[0m\n\u001b[0;32m   1594\u001b[0m         \u001b[0margs\u001b[0m \u001b[1;33m=\u001b[0m \u001b[0m_convert_params\u001b[0m\u001b[1;33m(\u001b[0m\u001b[0msql\u001b[0m\u001b[1;33m,\u001b[0m \u001b[0mparams\u001b[0m\u001b[1;33m)\u001b[0m\u001b[1;33m\u001b[0m\u001b[0m\n\u001b[1;32m-> 1595\u001b[1;33m         \u001b[0mcursor\u001b[0m \u001b[1;33m=\u001b[0m \u001b[0mself\u001b[0m\u001b[1;33m.\u001b[0m\u001b[0mexecute\u001b[0m\u001b[1;33m(\u001b[0m\u001b[1;33m*\u001b[0m\u001b[0margs\u001b[0m\u001b[1;33m)\u001b[0m\u001b[1;33m\u001b[0m\u001b[0m\n\u001b[0m\u001b[0;32m   1596\u001b[0m         \u001b[0mcolumns\u001b[0m \u001b[1;33m=\u001b[0m \u001b[1;33m[\u001b[0m\u001b[0mcol_desc\u001b[0m\u001b[1;33m[\u001b[0m\u001b[1;36m0\u001b[0m\u001b[1;33m]\u001b[0m \u001b[1;32mfor\u001b[0m \u001b[0mcol_desc\u001b[0m \u001b[1;32min\u001b[0m \u001b[0mcursor\u001b[0m\u001b[1;33m.\u001b[0m\u001b[0mdescription\u001b[0m\u001b[1;33m]\u001b[0m\u001b[1;33m\u001b[0m\u001b[0m\n\u001b[0;32m   1597\u001b[0m \u001b[1;33m\u001b[0m\u001b[0m\n",
      "\u001b[1;32mC:\\Users\\Colin\\Anaconda3\\lib\\site-packages\\pandas\\io\\sql.py\u001b[0m in \u001b[0;36mexecute\u001b[1;34m(self, *args, **kwargs)\u001b[0m\n\u001b[0;32m   1558\u001b[0m                 \u001b[0mcur\u001b[0m\u001b[1;33m.\u001b[0m\u001b[0mexecute\u001b[0m\u001b[1;33m(\u001b[0m\u001b[1;33m*\u001b[0m\u001b[0margs\u001b[0m\u001b[1;33m,\u001b[0m \u001b[1;33m**\u001b[0m\u001b[0mkwargs\u001b[0m\u001b[1;33m)\u001b[0m\u001b[1;33m\u001b[0m\u001b[0m\n\u001b[0;32m   1559\u001b[0m             \u001b[1;32melse\u001b[0m\u001b[1;33m:\u001b[0m\u001b[1;33m\u001b[0m\u001b[0m\n\u001b[1;32m-> 1560\u001b[1;33m                 \u001b[0mcur\u001b[0m\u001b[1;33m.\u001b[0m\u001b[0mexecute\u001b[0m\u001b[1;33m(\u001b[0m\u001b[1;33m*\u001b[0m\u001b[0margs\u001b[0m\u001b[1;33m)\u001b[0m\u001b[1;33m\u001b[0m\u001b[0m\n\u001b[0m\u001b[0;32m   1561\u001b[0m             \u001b[1;32mreturn\u001b[0m \u001b[0mcur\u001b[0m\u001b[1;33m\u001b[0m\u001b[0m\n\u001b[0;32m   1562\u001b[0m         \u001b[1;32mexcept\u001b[0m \u001b[0mException\u001b[0m \u001b[1;32mas\u001b[0m \u001b[0mexc\u001b[0m\u001b[1;33m:\u001b[0m\u001b[1;33m\u001b[0m\u001b[0m\n",
      "\u001b[1;31mKeyboardInterrupt\u001b[0m: "
     ]
    }
   ],
   "source": [
    "#Printing out first 10 rows of data from each table to see if the database was created correctly\n",
    "months = [\"january\",\"february\",\"march\",\"april\",\"may\",\"june\",\"july\",\"august\",\"september\",\"november\",\"december\"]\n",
    "conn = sqlite3.connect(r'E:\\Summer Project\\yellow_taxi_2013.sqlite')\n",
    "c = conn.cursor()\n",
    "for month in months:\n",
    "    rows = pd.read_sql_query('select * from '+str(month)+' order by random() limit 10', conn)\n",
    "    print(rows)"
   ]
  },
  {
   "cell_type": "code",
   "execution_count": 22,
   "metadata": {
    "collapsed": false
   },
   "outputs": [],
   "source": [
    "def get_sample(year,month,number):\n",
    "    conn = sqlite3.connect(r'E:\\Summer Project\\yellow_taxi_'+str(year)+'.sqlite')\n",
    "    c = conn.cursor()\n",
    "    \n",
    "    sample = pd.read_sql_query('select * from '+str(month)+' where rowid = (abs(random()) % (select (select max(rowid) from january)+1))',conn)\n",
    "    for i in range(number):\n",
    "        #row = pd.read_sql_query('select * from january where rowid = (abs(random()) % (select (select max(rowid) from january)+1))',conn)\n",
    "        sample = sample.append(pd.read_sql_query('select rowid, * from '+str(month)+' where rowid = (abs(random()) % (select (select max(rowid) from january)+1))',conn))#row,ignore_index=True)\n",
    "        \n",
    "    return sample"
   ]
  },
  {
   "cell_type": "code",
   "execution_count": 23,
   "metadata": {
    "collapsed": false
   },
   "outputs": [
    {
     "name": "stdout",
     "output_type": "stream",
     "text": [
      "      dropoff_datetime  dropoff_latitude  dropoff_longitude  fare_amount  \\\n",
      "0  2013-01-29 16:02:22         40.757926         -73.989003          4.0   \n",
      "0  2013-01-07 19:12:00         40.707763         -74.013957         26.5   \n",
      "0  2013-01-22 08:38:00         40.752672         -73.985782          8.0   \n",
      "0  2013-01-28 20:09:00         40.758232         -73.982210          6.5   \n",
      "0  2013-01-04 16:55:18         40.783727         -73.977820          4.0   \n",
      "0  2013-01-23 10:13:24         40.758592         -73.974672         13.5   \n",
      "0  2013-01-27 13:55:18         40.724456         -73.993499         17.5   \n",
      "0  2013-01-11 06:54:19         40.754730         -73.978510          6.5   \n",
      "0  2013-01-01 12:40:00         40.779705         -73.953832          7.0   \n",
      "0  2013-01-19 19:22:00         40.758257         -73.964345          6.5   \n",
      "0  2013-01-06 17:42:22         40.803219         -73.956310          6.5   \n",
      "0  2013-01-19 00:46:21         40.753295         -73.969697         10.5   \n",
      "0  2013-01-06 00:45:12         40.735935         -73.999720          3.5   \n",
      "0  2013-01-30 00:26:27         40.774521         -73.956970         12.5   \n",
      "0  2013-01-05 08:40:52         40.762655         -73.994796         14.0   \n",
      "0  2013-01-23 18:40:00         40.737052         -73.992870         13.0   \n",
      "0  2013-01-04 05:22:00         40.667883         -73.792030         51.0   \n",
      "\n",
      "   mta_tax  passenger_count payment_type      pickup_datetime  \\\n",
      "0      0.5                1          CSH  2013-01-29 15:59:27   \n",
      "0      0.5                1          CRD  2013-01-07 18:44:00   \n",
      "0      0.5                1          CRD  2013-01-22 08:28:00   \n",
      "0      0.5                2          CSH  2013-01-28 20:02:00   \n",
      "0      0.5                1          CSH  2013-01-04 16:52:54   \n",
      "0      0.5                1          CSH  2013-01-23 09:52:51   \n",
      "0      0.5                2          CRD  2013-01-27 13:34:33   \n",
      "0      0.5                1          CRD  2013-01-11 06:47:30   \n",
      "0      0.5                2          CRD  2013-01-01 12:36:00   \n",
      "0      0.5                2          CRD  2013-01-19 19:14:00   \n",
      "0      0.5                1          CSH  2013-01-06 17:35:41   \n",
      "0      0.5                1          CRD  2013-01-19 00:35:48   \n",
      "0      0.5                1          CSH  2013-01-06 00:43:20   \n",
      "0      0.5                1          CRD  2013-01-30 00:15:12   \n",
      "0      0.5                1          CRD  2013-01-05 08:32:02   \n",
      "0      0.5                2          CSH  2013-01-23 18:22:00   \n",
      "0      0.5                2          CSH  2013-01-04 04:49:00   \n",
      "\n",
      "   pickup_latitude  pickup_longitude  rate_code       rowid  \\\n",
      "0        40.753058        -73.992903          1         NaN   \n",
      "0        40.768817        -73.952417          1  12190277.0   \n",
      "0        40.782597        -73.955445          1   9315598.0   \n",
      "0        40.763592        -73.972895          1   9963528.0   \n",
      "0        40.776307        -73.982383          1  14641010.0   \n",
      "0        40.765396        -73.954907          1  14307682.0   \n",
      "0        40.769405        -73.995779          1  14124080.0   \n",
      "0        40.761822        -73.993457          1   3476704.0   \n",
      "0        40.758207        -73.967997          1   1009938.0   \n",
      "0        40.765817        -73.969078          1   5467734.0   \n",
      "0        40.818332        -73.958473          1   6449549.0   \n",
      "0        40.732358        -74.000402          1   2277669.0   \n",
      "0        40.731561        -74.001066          1  14709309.0   \n",
      "0        40.737843        -73.987925          1  11034937.0   \n",
      "0        40.804524        -73.966517          1   2779816.0   \n",
      "0        40.764712        -73.983635          1   7979119.0   \n",
      "0        40.824557        -73.951842          1   1570841.0   \n",
      "\n",
      "  store_and_fwd_flag  surcharge  tip_amount  tolls_amount  total_amount  \\\n",
      "0                  N        0.0         0.0           0.0           4.5   \n",
      "0                           1.0         5.5           0.0          33.5   \n",
      "0                           0.0         1.6           0.0          10.1   \n",
      "0                           0.5         0.0           0.0           7.5   \n",
      "0                  N        1.0         0.0           0.0           5.5   \n",
      "0                  N        0.0         0.0           0.0          14.0   \n",
      "0                  N        0.0         3.6           0.0          21.6   \n",
      "0                  N        0.0         2.0           0.0           9.0   \n",
      "0                           0.0         1.4           0.0           8.9   \n",
      "0                           0.0         1.3           0.0           8.3   \n",
      "0                  N        0.0         0.0           0.0           7.0   \n",
      "0                  N        0.5         1.0           0.0          12.5   \n",
      "0                  N        0.5         0.0           0.0           4.5   \n",
      "0                  N        0.5         1.5           0.0          15.0   \n",
      "0                  N        0.0         2.9           0.0          17.4   \n",
      "0                           1.0         0.0           0.0          14.5   \n",
      "0                           0.5         0.0           4.8          56.8   \n",
      "\n",
      "   trip_distance vendor_id  \n",
      "0           0.30       CMT  \n",
      "0           7.61       VTS  \n",
      "0           1.13       VTS  \n",
      "0           0.94       VTS  \n",
      "0           0.50       CMT  \n",
      "0           1.50       CMT  \n",
      "0           4.00       CMT  \n",
      "0           1.00       CMT  \n",
      "0           1.86       VTS  \n",
      "0           1.00       VTS  \n",
      "0           1.20       CMT  \n",
      "0           2.70       CMT  \n",
      "0           0.40       CMT  \n",
      "0           3.20       CMT  \n",
      "0           4.00       CMT  \n",
      "0           2.38       VTS  \n",
      "0          18.31       VTS  \n"
     ]
    }
   ],
   "source": [
    "x = get_sample(2013,\"january\",16)\n",
    "print(x)"
   ]
  },
  {
   "cell_type": "code",
   "execution_count": null,
   "metadata": {
    "collapsed": true
   },
   "outputs": [],
   "source": []
  }
 ],
 "metadata": {
  "kernelspec": {
   "display_name": "Python 3",
   "language": "python",
   "name": "python3"
  },
  "language_info": {
   "codemirror_mode": {
    "name": "ipython",
    "version": 3
   },
   "file_extension": ".py",
   "mimetype": "text/x-python",
   "name": "python",
   "nbconvert_exporter": "python",
   "pygments_lexer": "ipython3",
   "version": "3.5.1"
  }
 },
 "nbformat": 4,
 "nbformat_minor": 0
}
