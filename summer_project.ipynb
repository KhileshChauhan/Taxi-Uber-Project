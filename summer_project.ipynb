{
 "cells": [
  {
   "cell_type": "code",
   "execution_count": 101,
   "metadata": {
    "collapsed": true
   },
   "outputs": [],
   "source": [
    "import sqlite3\n",
    "import csv\n",
    "import pandas as pd\n",
    "from datetime import datetime"
   ]
  },
  {
   "cell_type": "code",
   "execution_count": 49,
   "metadata": {},
   "outputs": [],
   "source": [
    "conn = sqlite3.connect(r'E:\\Summer Project\\taxi2013.sqlite')\n",
    "c = conn.cursor()\n",
    "\n",
    "# Create table\n",
    "c.execute('''CREATE TABLE january\n",
    "             (vendor_id text, pickup_datetime text, dropoff_datetime text,\n",
    "             passenger_count integer, trip_distance real, pickup_longitude real,\n",
    "              pickup_latitude real, rate_code integer, store_and_fwd_flag text,\n",
    "              dropoff_longitude real, dropoff_latitude real, payment_type text,\n",
    "              fare_amount real, surcharge real, mta_tax real,tip_amount real,\n",
    "               tolls_amount real,total_amount real)''')\n",
    "\n",
    "# Insert a row of data\n",
    "#c.execute(\"INSERT INTO stocks VALUES ('2008-01-05','BUY','RHAT',100,35.14)\")\n",
    "#print(c.fetchone())\n",
    "\n",
    "# Save (commit) the changes\n",
    "conn.commit()\n",
    "\n",
    "# We can also close the connection if we are done with it.\n",
    "# Just be sure any changes have been committed or they will be lost.\n",
    "conn.close()"
   ]
  },
  {
   "cell_type": "code",
   "execution_count": 70,
   "metadata": {},
   "outputs": [],
   "source": [
    "conn = sqlite3.connect(r'E:\\Summer Project\\taxi2013.sqlite')\n",
    "c = conn.cursor()\n",
    "table = \"january\"\n",
    "count=0\n",
    "with open(r'E:\\Summer Project\\Data\\Taxi\\yellow_tripdata_2013-01.csv', \"r\") as f:\n",
    "        reader = csv.reader(f)\n",
    " \n",
    "        header = True\n",
    "        for row in reader:\n",
    "            if count<2:\n",
    "                count+=1\n",
    "            else:\n",
    "                #sql = \"INSERT INTO pickups (\"\n",
    "                #values = \"\"\n",
    "                #for i in range(len(row)):\n",
    "                #    if i != len(row)-1:\n",
    "                #        values+=str(row[i])+\", \"\n",
    "                #    else:\n",
    "                #        values+=str(row[i])\n",
    "                #insertsql = \"INSERT INTO %s VALUES (%s)\" % (\"january\",values)\n",
    "                            #\", \".join([str(row[0]),str(row[1])]))\n",
    "                #print(insertsql)\n",
    "                #c.execute(insertsql)\n",
    "                c.execute(\"INSERT INTO january VALUES (?,?,?,?,?,?,?,?,?,?,?,?,?,?,?,?,?,?)\", (str(row[0]),str(row[1]),\n",
    "                                                                                             str(row[2]),\n",
    "                                                                                               str(row[3]),str(row[4]),\n",
    "                                                                                             str(row[5]),\n",
    "                                                                                               str(row[6]),str(row[7]),\n",
    "                                                                                            str(row[8]),\n",
    "                                                                                               str(row[9]),str(row[10]),\n",
    "                                                                                             str(row[11]),\n",
    "                                                                                               str(row[12]),str(row[13]),\n",
    "                                                                                            str(row[14]),\n",
    "                                                                                               str(row[15]),str(row[16]),\n",
    "                                                                                             str(row[17])))#insertsql)\n",
    "        conn.commit()\n",
    "        conn.close()"
   ]
  },
  {
   "cell_type": "code",
   "execution_count": 15,
   "metadata": {},
   "outputs": [],
   "source": [
    "sqlite_file = 'E:\\Summer Project\\my_first_db.sqlite'    # name of the sqlite database file\n",
    "table_name1 = 'my_table_1'  # name of the table to be created\n",
    "table_name2 = 'my_table_2'  # name of the table to be created\n",
    "new_field = 'my_1st_column' # name of the column\n",
    "field_type = 'INTEGER'  # column data type\n",
    "\n",
    "# Connecting to the database file\n",
    "conn = sqlite3.connect(sqlite_file)\n",
    "c = conn.cursor()\n",
    "\n",
    "# Creating a new SQLite table with 1 column\n",
    "c.execute('CREATE TABLE {tn} ({nf} {ft})'\\\n",
    "        .format(tn=table_name1, nf=new_field, ft=field_type))\n",
    "\n",
    "# Creating a second table with 1 column and set it as PRIMARY KEY\n",
    "# note that PRIMARY KEY column must consist of unique values!\n",
    "c.execute('CREATE TABLE {tn} ({nf} {ft} PRIMARY KEY)'\\\n",
    "        .format(tn=table_name2, nf=new_field, ft=field_type))\n",
    "\n",
    "# Committing changes and closing the connection to the database file\n",
    "conn.commit()\n",
    "conn.close()"
   ]
  },
  {
   "cell_type": "code",
   "execution_count": 88,
   "metadata": {},
   "outputs": [],
   "source": [
    "conn = sqlite3.connect(r'E:\\Summer Project\\taxi2013.sqlite')\n",
    "c = conn.cursor()"
   ]
  },
  {
   "cell_type": "code",
   "execution_count": 104,
   "metadata": {},
   "outputs": [
    {
     "name": "stdout",
     "output_type": "stream",
     "text": [
      "None\nNone\n"
     ]
    }
   ],
   "source": [
    "dates = pd.read_sql_query('select pickup_datetime from january', conn)"
   ]
  },
  {
   "cell_type": "code",
   "execution_count": 98,
   "metadata": {},
   "outputs": [
    {
     "name": "stdout",
     "output_type": "stream",
     "text": [
      "2013-01-01 15:11:48\n"
     ]
    }
   ],
   "source": [
    "test = dates.ix[0,0]\n",
    "print(test)"
   ]
  },
  {
   "cell_type": "code",
   "execution_count": 102,
   "metadata": {},
   "outputs": [
    {
     "name": "stdout",
     "output_type": "stream",
     "text": [
      "year: 2013 day: 1 hour: 15 minute: 11\n"
     ]
    }
   ],
   "source": [
    "row = datetime.strptime(test, '%Y-%m-%d %H:%M:%S')\n",
    "\n",
    "print(\"year: \"+str(row.year)+ \" day: \"+str(row.day)+\" hour: \"+str(row.hour)+\" minute: \"+str(row.minute))"
   ]
  },
  {
   "cell_type": "code",
   "execution_count": 106,
   "metadata": {},
   "outputs": [
    {
     "name": "stdout",
     "output_type": "stream",
     "text": [
      "  vendor_id      pickup_datetime     dropoff_datetime  passenger_count  \\\n0       CMT  2013-01-01 15:11:48  2013-01-01 15:18:10                4   \n1       CMT  2013-01-06 00:18:35  2013-01-06 00:22:54                1   \n2       CMT  2013-01-05 18:49:41  2013-01-05 18:54:23                1   \n3       CMT  2013-01-07 23:54:15  2013-01-07 23:58:20                2   \n4       CMT  2013-01-07 23:25:03  2013-01-07 23:34:24                1   \n5       CMT  2013-01-07 15:27:48  2013-01-07 15:38:37                1   \n6       CMT  2013-01-08 11:01:15  2013-01-08 11:08:14                1   \n7       CMT  2013-01-07 12:39:18  2013-01-07 13:10:56                3   \n8       CMT  2013-01-07 18:15:47  2013-01-07 18:20:47                1   \n9       CMT  2013-01-07 15:33:28  2013-01-07 15:49:26                2   \n\n   trip_distance  pickup_longitude  pickup_latitude  rate_code  \\\n0            1.0        -73.978165        40.757977          1   \n1            1.5        -74.006680        40.731781          1   \n2            1.1        -74.004711        40.737770          1   \n3            0.7        -73.974600        40.759945          1   \n4            2.1        -73.976252        40.748528          1   \n5            1.7        -73.966743        40.764252          1   \n6            0.8        -73.995801        40.743978          1   \n7           10.7        -73.989937        40.756773          1   \n8            0.8        -73.980071        40.743138          1   \n9            2.5        -73.977937        40.786983          1   \n\n  store_and_fwd_flag  dropoff_longitude  dropoff_latitude payment_type  \\\n0                  N         -73.989840         40.751173          CSH   \n1                  N         -73.994499         40.750659          CSH   \n2                  N         -74.009831         40.726000          CSH   \n3                  N         -73.984737         40.759388          CSH   \n4                  N         -74.002583         40.747867          CSH   \n5                  N         -73.983322         40.743762          CSH   \n6                  N         -74.007418         40.744344          CSH   \n7                  N         -73.865248         40.770630          CSH   \n8                  N         -73.982710         40.735337          CSH   \n9                  N         -73.952919         40.806368          CSH   \n\n   fare_amount  surcharge  mta_tax  tip_amount  tolls_amount  total_amount  \n0          6.5        0.0      0.5         0.0           0.0           7.0  \n1          6.0        0.5      0.5         0.0           0.0           7.0  \n2          5.5        1.0      0.5         0.0           0.0           7.0  \n3          5.0        0.5      0.5         0.0           0.0           6.0  \n4          9.5        0.5      0.5         0.0           0.0          10.5  \n5          9.5        0.0      0.5         0.0           0.0          10.0  \n6          6.0        0.0      0.5         0.0           0.0           6.5  \n7         34.0        0.0      0.5         0.0           4.8          39.3  \n8          5.5        1.0      0.5         0.0           0.0           7.0  \n9         13.0        0.0      0.5         0.0           0.0          13.5  \n"
     ]
    }
   ],
   "source": [
    "rows = pd.read_sql_query('select * from january limit 10', conn)\n",
    "\n",
    "print(rows)"
   ]
  },
  {
   "cell_type": "code",
   "execution_count": null,
   "metadata": {},
   "outputs": [],
   "source": [
    ""
   ]
  }
 ],
 "metadata": {
  "kernelspec": {
   "display_name": "Python 2",
   "language": "python",
   "name": "python2"
  },
  "language_info": {
   "codemirror_mode": {
    "name": "ipython",
    "version": 2.0
   },
   "file_extension": ".py",
   "mimetype": "text/x-python",
   "name": "python",
   "nbconvert_exporter": "python",
   "pygments_lexer": "ipython2",
   "version": "2.7.6"
  }
 },
 "nbformat": 4,
 "nbformat_minor": 0
}